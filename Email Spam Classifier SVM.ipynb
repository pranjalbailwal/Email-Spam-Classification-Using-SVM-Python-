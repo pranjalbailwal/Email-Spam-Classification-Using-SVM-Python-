{
 "cells": [
  {
   "cell_type": "code",
   "execution_count": 35,
   "metadata": {},
   "outputs": [],
   "source": [
    "import os\n",
    "import numpy as np\n",
    "from collections import Counter\n",
    "from sklearn import svm\n",
    "from sklearn.metrics import accuracy_score\n",
    "from sklearn.model_selection import train_test_split, GridSearchCV"
   ]
  },
  {
   "cell_type": "code",
   "execution_count": 36,
   "metadata": {},
   "outputs": [],
   "source": [
    "ham = [os.path.join(\"enron1/ham/\", f) for f in os.listdir(\"enron1/ham/\")]\n",
    "spam = [os.path.join(\"enron1/spam/\", f) for f in os.listdir(\"enron1/spam/\")]\n",
    "\n",
    "all_words = []\n",
    "for email in ham:\n",
    "    with open(email) as m:\n",
    "        for line in m:\n",
    "            words = line.split()\n",
    "            all_words += words\n",
    "for email in spam:\n",
    "    with open(email, errors='ignore') as m:\n",
    "        for line in m:\n",
    "            words = line.split()\n",
    "            all_words += words\n",
    "dictionary = Counter(all_words)"
   ]
  },
  {
   "cell_type": "code",
   "execution_count": 37,
   "metadata": {},
   "outputs": [],
   "source": [
    "dict_list = list(dictionary)\n",
    "for word in dict_list:\n",
    "    if(word.isalpha()==False):\n",
    "        del dictionary[word]\n",
    "    elif(len(word)==1):\n",
    "        del dictionary[word]\n",
    "dictionary = dictionary.most_common(5000)"
   ]
  },
  {
   "cell_type": "code",
   "execution_count": 46,
   "metadata": {},
   "outputs": [],
   "source": [
    "def extractFeatures(dir):\n",
    "    files = [os.path.join(dir, f) for f in os.listdir(dir)]\n",
    "    feature_matrix = np.zeros((len(files), 5000))\n",
    "    train_labels = np.zeros(len(files))\n",
    "    docID = 0\n",
    "    for file in files:\n",
    "        with open(file, errors='ignore') as m:\n",
    "            for line in m:\n",
    "                words = line.split()\n",
    "                for word in words:\n",
    "                    wordID = 0\n",
    "                    for i,d in enumerate(dictionary):\n",
    "                        if(d[0] == word):\n",
    "                            wordID = i\n",
    "                            feature_matrix[docID, wordID] = words.count(word)\n",
    "        tags = file.split('/')\n",
    "        train_labels[docID] = 0\n",
    "        label = tags[len(tags)-2]\n",
    "        if(label == \"spam\"):\n",
    "            train_labels[docID] = 1\n",
    "        docID += 1\n",
    "    return feature_matrix, train_labels\n",
    "            "
   ]
  },
  {
   "cell_type": "code",
   "execution_count": 47,
   "metadata": {},
   "outputs": [],
   "source": [
    "ham_dir = \"enron1/ham/\"\n",
    "spam_dir = \"enron1/spam/\"\n",
    "ham_fm, ham_targets = extractFeatures(ham_dir)\n",
    "spam_fm, spam_targets = extractFeatures(spam_dir)"
   ]
  },
  {
   "cell_type": "code",
   "execution_count": 65,
   "metadata": {},
   "outputs": [
    {
     "data": {
      "text/plain": [
       "(3465, 5000)"
      ]
     },
     "execution_count": 65,
     "metadata": {},
     "output_type": "execute_result"
    }
   ],
   "source": [
    "X = np.concatenate([ham_fm, spam_fm])\n",
    "Y = np.concatenate([ham_targets, spam_targets])\n",
    "X_train, X_test, Y_train, Y_test = train_test_split(X,Y,test_size = 0.33, random_state = 42)"
   ]
  },
  {
   "cell_type": "code",
   "execution_count": 74,
   "metadata": {},
   "outputs": [
    {
     "name": "stderr",
     "output_type": "stream",
     "text": [
      "C:\\Users\\Mustafa\\Anaconda3\\lib\\site-packages\\sklearn\\model_selection\\_split.py:2053: FutureWarning: You should specify a value for 'cv' instead of relying on the default value. The default value will change from 3 to 5 in version 0.22.\n",
      "  warnings.warn(CV_WARNING, FutureWarning)\n"
     ]
    },
    {
     "data": {
      "text/plain": [
       "GridSearchCV(cv='warn', error_score='raise-deprecating',\n",
       "       estimator=SVC(C=1.0, cache_size=200, class_weight=None, coef0=0.0,\n",
       "  decision_function_shape='ovr', degree=3, gamma='auto_deprecated',\n",
       "  kernel='rbf', max_iter=-1, probability=False, random_state=None,\n",
       "  shrinking=True, tol=0.001, verbose=False),\n",
       "       fit_params=None, iid='warn', n_jobs=-1,\n",
       "       param_grid=[{'C': [1, 10, 100, 1000], 'kernel': ['linear']}, {'C': [1, 10, 100, 1000], 'gamma': [0.001, 0.01, 0.1, 1], 'kernel': ['rbf']}],\n",
       "       pre_dispatch='2*n_jobs', refit=True, return_train_score='warn',\n",
       "       scoring=None, verbose=0)"
      ]
     },
     "execution_count": 74,
     "metadata": {},
     "output_type": "execute_result"
    }
   ],
   "source": [
    "parameters = [{'C':[1,10,100,1000], 'kernel': ['linear']}, {'C':[1,10,100,1000], 'gamma':[0.001, 0.01, 0.1, 1], 'kernel':['rbf']},]\n",
    "clf = GridSearchCV(estimator=svm.SVC(), param_grid = parameters, cv = 3, n_jobs=-1)\n",
    "clf.fit(X_train,Y_train)"
   ]
  },
  {
   "cell_type": "code",
   "execution_count": 75,
   "metadata": {},
   "outputs": [
    {
     "name": "stdout",
     "output_type": "stream",
     "text": [
      "Best Score: 0.9682539682539683\n",
      "Best C: 10\n",
      "Best Kernel: rbf\n",
      "Best Gamma: 0.001\n"
     ]
    }
   ],
   "source": [
    "print(\"Best Score:\", clf.best_score_)\n",
    "print(\"Best C:\", clf.best_estimator_.C)\n",
    "print(\"Best Kernel:\", clf.best_estimator_.kernel)\n",
    "print(\"Best Gamma:\", clf.best_estimator_.gamma)"
   ]
  },
  {
   "cell_type": "code",
   "execution_count": 77,
   "metadata": {},
   "outputs": [
    {
     "name": "stdout",
     "output_type": "stream",
     "text": [
      "Accuracy : 96.71939074399532\n"
     ]
    }
   ],
   "source": [
    "model = svm.SVC(kernel='rbf', C=10, gamma=0.001)\n",
    "model.fit(X_train, Y_train)\n",
    "predicted_targets = model.predict(X_test)\n",
    "print(\"Accuracy :\", accuracy_score(Y_test, predicted_targets)*100)\n"
   ]
  }
 ],
 "metadata": {
  "kernelspec": {
   "display_name": "Python 3",
   "language": "python",
   "name": "python3"
  },
  "language_info": {
   "codemirror_mode": {
    "name": "ipython",
    "version": 3
   },
   "file_extension": ".py",
   "mimetype": "text/x-python",
   "name": "python",
   "nbconvert_exporter": "python",
   "pygments_lexer": "ipython3",
   "version": "3.7.1"
  }
 },
 "nbformat": 4,
 "nbformat_minor": 2
}
